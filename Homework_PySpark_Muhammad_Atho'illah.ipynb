{
  "nbformat": 4,
  "nbformat_minor": 0,
  "metadata": {
    "colab": {
      "provenance": [],
      "authorship_tag": "ABX9TyNv7c4Q5R1i8nMRT2Hzh/YC",
      "include_colab_link": true
    },
    "kernelspec": {
      "name": "python3",
      "display_name": "Python 3"
    },
    "language_info": {
      "name": "python"
    }
  },
  "cells": [
    {
      "cell_type": "markdown",
      "metadata": {
        "id": "view-in-github",
        "colab_type": "text"
      },
      "source": [
        "<a href=\"https://colab.research.google.com/github/Athoillah21/Homework-DigitalSkola/blob/main/Homework_PySpark_Muhammad_Atho'illah.ipynb\" target=\"_parent\"><img src=\"https://colab.research.google.com/assets/colab-badge.svg\" alt=\"Open In Colab\"/></a>"
      ]
    },
    {
      "cell_type": "markdown",
      "source": [
        "Homework PySpark - Muhammad Atho'illah"
      ],
      "metadata": {
        "id": "8JPGTrTGYBhW"
      }
    },
    {
      "cell_type": "markdown",
      "source": [
        "**1. Install Java and Spark**"
      ],
      "metadata": {
        "id": "3_hlcFFYYMBV"
      }
    },
    {
      "cell_type": "code",
      "execution_count": 24,
      "metadata": {
        "id": "PBlkhgQsOo3y"
      },
      "outputs": [],
      "source": [
        "!apt-get install openjdk-8-jdk-headless -qq > /dev/null\n",
        "!wget -q https://archive.apache.org/dist/spark/spark-2.4.4/spark-2.4.4-bin-hadoop2.7.tgz\n",
        "!tar xf spark-2.4.4-bin-hadoop2.7.tgz\n",
        "!pip install -q findspark"
      ]
    },
    {
      "cell_type": "code",
      "source": [
        "import os\n",
        "os.environ[\"JAVA_HOME\"] = \"/usr/lib/jvm/java-8-openjdk-amd64\"\n",
        "os.environ[\"SPARK_HOME\"] = \"/content/spark-2.4.4-bin-hadoop2.7\""
      ],
      "metadata": {
        "id": "CisZRMUjRHSW"
      },
      "execution_count": 25,
      "outputs": []
    },
    {
      "cell_type": "markdown",
      "source": [
        "**2. Import Dependencies**"
      ],
      "metadata": {
        "id": "nNDkYiyqYdC1"
      }
    },
    {
      "cell_type": "code",
      "source": [
        "import findspark\n",
        "findspark.init()\n",
        "from pyspark.sql import SparkSession\n",
        "from pyspark.sql.functions import *\n",
        "from pyspark.sql.types import *"
      ],
      "metadata": {
        "id": "-jC89z4lRKBg"
      },
      "execution_count": 26,
      "outputs": []
    },
    {
      "cell_type": "markdown",
      "source": [
        "**3. Upload and Unzip Data**"
      ],
      "metadata": {
        "id": "kBM88A6DYjuk"
      }
    },
    {
      "cell_type": "code",
      "source": [
        "from google.colab import files\n",
        "uploaded = files.upload()"
      ],
      "metadata": {
        "id": "Acb36w-_RODG"
      },
      "execution_count": 27,
      "outputs": []
    },
    {
      "cell_type": "code",
      "source": [
        "!unzip Dataset.zip"
      ],
      "metadata": {
        "id": "J7XUjAvjRhp3"
      },
      "execution_count": 28,
      "outputs": []
    },
    {
      "cell_type": "markdown",
      "source": [
        "**4. Initializing Spark**"
      ],
      "metadata": {
        "id": "T4KC3SfrYuSz"
      }
    },
    {
      "cell_type": "code",
      "source": [
        "spark = SparkSession \\\n",
        "    .builder \\\n",
        "    .master(\"local[*]\") \\\n",
        "    .appName(\"homework\") \\\n",
        "    .getOrCreate()"
      ],
      "metadata": {
        "id": "Iyc56ss4Ro0B"
      },
      "execution_count": 29,
      "outputs": []
    },
    {
      "cell_type": "markdown",
      "source": [
        "**5. Read Data**"
      ],
      "metadata": {
        "id": "JkEDGZzhY51S"
      }
    },
    {
      "cell_type": "code",
      "source": [
        "dft_h = spark.read.format(\"csv\").option(\"parserLib\", \"univocity\").option(\"header\", \"true\").option(\"delimiter\", \",\").load(\"Dataset/exercise/HashtagTwitter_POS.csv\")\n",
        "dft_a = spark.read.format(\"csv\").option(\"parserLib\", \"univocity\").option(\"header\", \"true\").option(\"delimiter\", \",\").load(\"Dataset/exercise/AkunTwitter_POS.csv\")\n",
        "dfig  = spark.read.format(\"json\").load(\"Dataset/exercise/Instagram_POS.json\")"
      ],
      "metadata": {
        "id": "jt6gCQZLRvad"
      },
      "execution_count": 30,
      "outputs": []
    },
    {
      "cell_type": "code",
      "source": [
        "dft_h.printSchema()\n",
        "dft_a.printSchema()\n",
        "dfig.printSchema()"
      ],
      "metadata": {
        "colab": {
          "base_uri": "https://localhost:8080/"
        },
        "id": "gvy57GR8Rzic",
        "outputId": "8061e656-6b8c-4a27-ddf3-8ac622d41d13"
      },
      "execution_count": 31,
      "outputs": [
        {
          "output_type": "stream",
          "name": "stdout",
          "text": [
            "root\n",
            " |-- id: string (nullable = true)\n",
            " |-- conversation_id: string (nullable = true)\n",
            " |-- created_at: string (nullable = true)\n",
            " |-- date: string (nullable = true)\n",
            " |-- time: string (nullable = true)\n",
            " |-- timezone: string (nullable = true)\n",
            " |-- user_id: string (nullable = true)\n",
            " |-- username: string (nullable = true)\n",
            " |-- name: string (nullable = true)\n",
            " |-- place: string (nullable = true)\n",
            " |-- tweet: string (nullable = true)\n",
            " |-- mentions: string (nullable = true)\n",
            " |-- urls: string (nullable = true)\n",
            " |-- photos: string (nullable = true)\n",
            " |-- replies_count: string (nullable = true)\n",
            " |-- retweets_count: string (nullable = true)\n",
            " |-- likes_count: string (nullable = true)\n",
            " |-- hashtags: string (nullable = true)\n",
            " |-- cashtags: string (nullable = true)\n",
            " |-- link: string (nullable = true)\n",
            " |-- retweet: string (nullable = true)\n",
            " |-- quote_url: string (nullable = true)\n",
            " |-- video: string (nullable = true)\n",
            " |-- user_rt_id: string (nullable = true)\n",
            " |-- near: string (nullable = true)\n",
            " |-- geo: string (nullable = true)\n",
            "\n",
            "root\n",
            " |-- id: string (nullable = true)\n",
            " |-- conversation_id: string (nullable = true)\n",
            " |-- created_at: string (nullable = true)\n",
            " |-- date: string (nullable = true)\n",
            " |-- time: string (nullable = true)\n",
            " |-- timezone: string (nullable = true)\n",
            " |-- user_id: string (nullable = true)\n",
            " |-- username: string (nullable = true)\n",
            " |-- name: string (nullable = true)\n",
            " |-- place: string (nullable = true)\n",
            " |-- tweet: string (nullable = true)\n",
            " |-- mentions: string (nullable = true)\n",
            " |-- urls: string (nullable = true)\n",
            " |-- photos: string (nullable = true)\n",
            " |-- replies_count: string (nullable = true)\n",
            " |-- retweets_count: string (nullable = true)\n",
            " |-- likes_count: string (nullable = true)\n",
            " |-- hashtags: string (nullable = true)\n",
            " |-- cashtags: string (nullable = true)\n",
            " |-- link: string (nullable = true)\n",
            " |-- retweet: string (nullable = true)\n",
            " |-- quote_url: string (nullable = true)\n",
            " |-- video: string (nullable = true)\n",
            " |-- user_rt_id: string (nullable = true)\n",
            " |-- near: string (nullable = true)\n",
            " |-- geo: string (nullable = true)\n",
            "\n",
            "root\n",
            " |-- caption: string (nullable = true)\n",
            " |-- comments: array (nullable = true)\n",
            " |    |-- element: struct (containsNull = true)\n",
            " |    |    |-- author: string (nullable = true)\n",
            " |    |    |-- comment: string (nullable = true)\n",
            " |-- datetime: string (nullable = true)\n",
            " |-- img_urls: array (nullable = true)\n",
            " |    |-- element: string (containsNull = true)\n",
            " |-- key: string (nullable = true)\n",
            "\n"
          ]
        }
      ]
    },
    {
      "cell_type": "markdown",
      "source": [
        "**6. Flattening Dataframe (Struct to Array)**"
      ],
      "metadata": {
        "id": "aq-erQc8Y_sL"
      }
    },
    {
      "cell_type": "code",
      "source": [
        "def FlatDF(schema, prefix=None):\n",
        "        fields = []\n",
        "        for field in schema.fields:\n",
        "            name = prefix + '.' + field.name if prefix else field.name\n",
        "            dtype = field.dataType\n",
        "            if isinstance(dtype, ArrayType):\n",
        "                dtype = dtype.elementType\n",
        "\n",
        "            if isinstance(dtype, StructType):\n",
        "                fields += FlatDF(dtype, prefix=name)\n",
        "            else:\n",
        "                fields.append(name)\n",
        "\n",
        "        return fields"
      ],
      "metadata": {
        "id": "RFSCE5XBR-5X"
      },
      "execution_count": 32,
      "outputs": []
    },
    {
      "cell_type": "code",
      "source": [
        "dfig = dfig.select(FlatDF(dfig.schema))"
      ],
      "metadata": {
        "id": "qsyUCqlOSB9R"
      },
      "execution_count": 33,
      "outputs": []
    },
    {
      "cell_type": "code",
      "source": [
        "dfig.printSchema()\n",
        "dfig.show()"
      ],
      "metadata": {
        "colab": {
          "base_uri": "https://localhost:8080/"
        },
        "id": "eG80x8JwSEeh",
        "outputId": "79bd0cd8-8eed-4858-ff47-2fe8c9fb8ecb"
      },
      "execution_count": 34,
      "outputs": [
        {
          "output_type": "stream",
          "name": "stdout",
          "text": [
            "root\n",
            " |-- caption: string (nullable = true)\n",
            " |-- author: array (nullable = true)\n",
            " |    |-- element: string (containsNull = true)\n",
            " |-- comment: array (nullable = true)\n",
            " |    |-- element: string (containsNull = true)\n",
            " |-- datetime: string (nullable = true)\n",
            " |-- img_urls: array (nullable = true)\n",
            " |    |-- element: string (containsNull = true)\n",
            " |-- key: string (nullable = true)\n",
            "\n",
            "+--------------------+--------------------+--------------------+--------------------+--------------------+--------------------+\n",
            "|             caption|              author|             comment|            datetime|            img_urls|                 key|\n",
            "+--------------------+--------------------+--------------------+--------------------+--------------------+--------------------+\n",
            "|Oranger menjaga s...|[mamah.asyraf, po...|[Cek DM, Baik, Sa...|2019-07-13T04:06:...|[https://scontent...|https://www.insta...|\n",
            "|Oranger, layanan ...|[rizqimuhammad77,...|[@ari_hr04 @adi04...|2019-07-12T09:55:...|[https://scontent...|https://www.insta...|\n",
            "|Selamat hari kope...|[evan_mardiyanto,...|[Min mohon segera...|2019-07-12T02:21:...|[https://scontent...|https://www.insta...|\n",
            "|Kuliah? di @polte...|[dicky.ra_, posin...|[@posindonesia.ig...|2019-07-11T05:19:...|[https://scontent...|https://www.insta...|\n",
            "|Selamat ulang tah...|[hey.rudd, jovian...|[Kak.. mau tanya....|2019-07-11T01:22:...|[https://scontent...|https://www.insta...|\n",
            "|Kiriman lewat Pos...|[rienlilitanty, p...|[16220644991 tolo...|2019-07-10T10:46:...|[https://scontent...|https://www.insta...|\n",
            "|Sedang mencari ka...|[nurdianing, posi...|[min, tolong cek ...|2019-07-10T07:08:...|[https://scontent...|https://www.insta...|\n",
            "|Lacak kiriman, ca...|[roadsins, posind...|[@posindonesia.ig...|2019-07-10T05:15:...|[https://scontent...|https://www.insta...|\n",
            "|Mau layanan Pos I...|[posindonesia.ig,...|[Halo Sahabat pos...|2019-07-09T11:33:...|[https://scontent...|https://www.insta...|\n",
            "|Oranger Pos Indon...|[w.hattari, irene...|[Ada loker gak?, ...|2019-07-09T08:00:...|[https://scontent...|https://www.insta...|\n",
            "|Meriah, ceria di ...|          [aqmalfrz]|  [mantap @andif17n]|2019-07-09T06:58:...|[https://scontent...|https://www.insta...|\n",
            "|Sumpah Palapa men...|                null|                null|2019-07-09T05:05:...|[https://scontent...|https://www.insta...|\n",
            "|Selamat ulang tah...|[selaputdarakemba...|[@posindonesia.ig...|2019-07-09T00:00:...|[https://scontent...|https://www.insta...|\n",
            "|Duh kirimannya ba...|[dwikipriya86, po...|[@posindonesia.ig...|2019-07-08T06:39:...|[https://scontent...|https://www.insta...|\n",
            "|Dengan semangat y...|[syamsul_manalu23...|[Spertunya gtu ma...|2019-07-07T11:29:...|[https://scontent...|https://www.insta...|\n",
            "|Keluarga Besar Po...|[gembong_sugiyars...|[Semoga husnul kh...|2019-07-07T02:18:...|[https://scontent...|https://www.insta...|\n",
            "|Hati-hati dalam m...|[posindonesia.ig,...|[Baik ditunggu un...|2019-07-06T14:15:...|[https://scontent...|https://www.insta...|\n",
            "|Menemani malam mi...|[posindonesia.ig,...|[Baik hijau maupu...|2019-07-06T13:01:...|[https://scontent...|https://www.insta...|\n",
            "|Selamat ulang tah...|[posindonesia.ig,...|[Mohon maaf atas ...|2019-07-06T01:07:...|[https://scontent...|https://www.insta...|\n",
            "|Semakin sukses, s...|[alivmart, posind...|[@posindonesia.ig...|2019-07-05T06:54:...|[https://scontent...|https://www.insta...|\n",
            "+--------------------+--------------------+--------------------+--------------------+--------------------+--------------------+\n",
            "only showing top 20 rows\n",
            "\n"
          ]
        }
      ]
    },
    {
      "cell_type": "code",
      "source": [
        "dfig.select(col(\"author\")[1], col(\"comment\")[1]).show()"
      ],
      "metadata": {
        "colab": {
          "base_uri": "https://localhost:8080/"
        },
        "id": "BNVxBz9gSIeh",
        "outputId": "1954f42f-0b1b-4769-ab6e-0bfc7946fa8e"
      },
      "execution_count": 35,
      "outputs": [
        {
          "output_type": "stream",
          "name": "stdout",
          "text": [
            "+-------------------+--------------------+\n",
            "|          author[1]|          comment[1]|\n",
            "+-------------------+--------------------+\n",
            "|    posindonesia.ig|Baik, Sahabat, mo...|\n",
            "|griyakulakannganjuk|Kirim paket belum...|\n",
            "|       ojombokfolou|SANGAT KECEWA. sa...|\n",
            "|    posindonesia.ig|Hai sahabat, kiri...|\n",
            "|   jovian_aryodhito|@mamah.asyraf trs...|\n",
            "|    posindonesia.ig|Hai sahabat, kiri...|\n",
            "|    posindonesia.ig|Halo Sahabat pos....|\n",
            "|    posindonesia.ig|Layanan tersebut ...|\n",
            "|          leylyeyle|@posindonesia.ig ...|\n",
            "|      irenerufianti|Min.. kirim parce...|\n",
            "|               null|                null|\n",
            "|               null|                null|\n",
            "|    posindonesia.ig|Baik Sahabat, jik...|\n",
            "|    posindonesia.ig|Sama-sama Sahabat...|\n",
            "|             xxyn99|@syamsul_manalu23...|\n",
            "|        nyomandante|Semoga mendapat t...|\n",
            "|     intanardianty_|Tingkatkan pelaya...|\n",
            "|        nana_munzir|Ka. Kenapa ya pak...|\n",
            "|    posindonesia.ig|Mohon maaf atas k...|\n",
            "|    posindonesia.ig|Halo sahabat pos....|\n",
            "+-------------------+--------------------+\n",
            "only showing top 20 rows\n",
            "\n"
          ]
        }
      ]
    },
    {
      "cell_type": "markdown",
      "source": [
        "**7. Filter Only Author, Comment and add Source (Instagram)**"
      ],
      "metadata": {
        "id": "7PVUVRfFZZdj"
      }
    },
    {
      "cell_type": "code",
      "source": [
        "dfig_clean = dfig.withColumn(\"tmp\", arrays_zip(\"author\", \"comment\")) \\\n",
        "          .withColumn(\"tmp\", explode(\"tmp\")) \\\n",
        "          .select(col(\"tmp.author\"), col(\"tmp.comment\"))"
      ],
      "metadata": {
        "id": "-Fa_i-niSVqQ"
      },
      "execution_count": 63,
      "outputs": []
    },
    {
      "cell_type": "code",
      "source": [
        "dfig_clean = dfig_clean.withColumn(\"source\", lit(\"Instagram\"))\n",
        "dfig_clean.show()"
      ],
      "metadata": {
        "colab": {
          "base_uri": "https://localhost:8080/"
        },
        "id": "4-p_X01qSZxh",
        "outputId": "41ff2c8c-14a4-47f6-ad66-0b3346ca8365"
      },
      "execution_count": 64,
      "outputs": [
        {
          "output_type": "stream",
          "name": "stdout",
          "text": [
            "+-------------------+--------------------+---------+\n",
            "|             author|             comment|   source|\n",
            "+-------------------+--------------------+---------+\n",
            "|       mamah.asyraf|              Cek DM|Instagram|\n",
            "|    posindonesia.ig|Baik, Sahabat, mo...|Instagram|\n",
            "|    akhirini_husein|Kiriman saya tida...|Instagram|\n",
            "|    posindonesia.ig|Halo, Sahabat, bi...|Instagram|\n",
            "|             figha_|Pengambilan paket...|Instagram|\n",
            "|    posindonesia.ig|Halo, Sahabat. Mo...|Instagram|\n",
            "|             figha_|@posindonesia.ig ...|Instagram|\n",
            "|    posindonesia.ig|Sama-sama Sahabat...|Instagram|\n",
            "|       phytastoreso|Kak tolong cek dm...|Instagram|\n",
            "|    posindonesia.ig|Baik, telah kami ...|Instagram|\n",
            "|             figha_|Kalo mengambil pa...|Instagram|\n",
            "|    rizqimuhammad77|@ari_hr04 @adi047...|Instagram|\n",
            "|griyakulakannganjuk|Kirim paket belum...|Instagram|\n",
            "|             snttaa|Tolong cek STR040...|Instagram|\n",
            "|           widie489|https://ecoracing...|Instagram|\n",
            "|    posindonesia.ig|Boleh diinformasi...|Instagram|\n",
            "|    posindonesia.ig|Menurut investiga...|Instagram|\n",
            "|   keziacatherine.s|Min, bis Surat su...|Instagram|\n",
            "|    posindonesia.ig|Bisa surat masih ...|Instagram|\n",
            "|      audreygraciam|Hi min, tolong li...|Instagram|\n",
            "+-------------------+--------------------+---------+\n",
            "only showing top 20 rows\n",
            "\n"
          ]
        }
      ]
    },
    {
      "cell_type": "markdown",
      "source": [
        "**8. Filter Only Username, Tweet and add Source (Twitter_Account)**"
      ],
      "metadata": {
        "id": "hnq4EzWxZrVf"
      }
    },
    {
      "cell_type": "code",
      "source": [
        "dft_a_clean = dft_a.select(\"username\", \"tweet\", lit(\"Twitter\").alias(\"source\"))\n",
        "dft_a_clean.show()"
      ],
      "metadata": {
        "colab": {
          "base_uri": "https://localhost:8080/"
        },
        "id": "uqf2IZTLTqTD",
        "outputId": "30352aa6-dc61-435c-e616-53b5f8c52d47"
      },
      "execution_count": 65,
      "outputs": [
        {
          "output_type": "stream",
          "name": "stdout",
          "text": [
            "+------------+--------------------+-------+\n",
            "|    username|               tweet| source|\n",
            "+------------+--------------------+-------+\n",
            "|posindonesia|Baik sahabat, tel...|Twitter|\n",
            "|posindonesia|Hai sahabat. Kiri...|Twitter|\n",
            "|posindonesia|/ handphone pener...|Twitter|\n",
            "|posindonesia|Hai sahabat, kiri...|Twitter|\n",
            "|posindonesia|Oranger menjaga s...|Twitter|\n",
            "|posindonesia|Hai sahabat. Untu...|Twitter|\n",
            "|posindonesia|Terima kasih tela...|Twitter|\n",
            "|posindonesia|Hai sahabat. Moho...|Twitter|\n",
            "|posindonesia|Hai sahabat. Moho...|Twitter|\n",
            "|posindonesia|Sama - sama sahab...|Twitter|\n",
            "|posindonesia|Hai sahabat. Kiri...|Twitter|\n",
            "|posindonesia|biaya pelalubeaan...|Twitter|\n",
            "|posindonesia|Halo Sahabat, seb...|Twitter|\n",
            "|posindonesia|Berdasarkan hasil...|Twitter|\n",
            "|posindonesia|Mohon diinformasi...|Twitter|\n",
            "|posindonesia|kami informasikan...|Twitter|\n",
            "|posindonesia|Baik Sahabat, Moh...|Twitter|\n",
            "|posindonesia|Halo Sahabat. Moh...|Twitter|\n",
            "|posindonesia|Halo Sahabat pos....|Twitter|\n",
            "|posindonesia|Baik sahabat moho...|Twitter|\n",
            "+------------+--------------------+-------+\n",
            "only showing top 20 rows\n",
            "\n"
          ]
        }
      ]
    },
    {
      "cell_type": "markdown",
      "source": [
        "**9. Filter Only Username, Tweet and add Source (Twitter_Hashtag)**"
      ],
      "metadata": {
        "id": "iVCFQbgfZ9IU"
      }
    },
    {
      "cell_type": "code",
      "source": [
        "dft_h_clean = dft_h.select(\"username\", \"tweet\", lit(\"Twitter\").alias(\"source\"))\n",
        "dft_h_clean.show()"
      ],
      "metadata": {
        "colab": {
          "base_uri": "https://localhost:8080/"
        },
        "id": "IJh8kAS0UHrE",
        "outputId": "ca3626c7-f575-4bcf-ce47-a9de578dbebe"
      },
      "execution_count": 66,
      "outputs": [
        {
          "output_type": "stream",
          "name": "stdout",
          "text": [
            "+--------------+--------------------+-------+\n",
            "|      username|               tweet| source|\n",
            "+--------------+--------------------+-------+\n",
            "|  kantorpospbg|Ada Kiriman Uang?...|Twitter|\n",
            "|      detikcom|Resi Pos merupaka...|Twitter|\n",
            "|  posindonesia|Oranger, layanan ...|Twitter|\n",
            "|        k59300|#Repost posindone...|Twitter|\n",
            "|  posindonesia|Kiriman lewat Pos...|Twitter|\n",
            "|amantepatwaktu|Kenali Pos sedari...|Twitter|\n",
            "|  kantorpospbg|#Repost posindone...|Twitter|\n",
            "|  posindonesia|Mau layanan Pos I...|Twitter|\n",
            "|  posindonesia|Oranger Pos Indon...|Twitter|\n",
            "|        k59300|#Repost posindone...|Twitter|\n",
            "|     tokondutz|Sale cd audio  #s...|Twitter|\n",
            "|     tokondutz|Sale cd audio  #s...|Twitter|\n",
            "|  kantorpospbg|#Repost posindone...|Twitter|\n",
            "|  posindonesia|Hati-hati dalam m...|Twitter|\n",
            "|aboben_variasi|Kita ga cuma mela...|Twitter|\n",
            "|  therapistsby|Ready stock #dild...|Twitter|\n",
            "|  posindonesia|Kantor pos sekara...|Twitter|\n",
            "|  posindonesia|Pengen kirim untu...|Twitter|\n",
            "|     hardy49jr|Riding lagi.. ngu...|Twitter|\n",
            "|  kantorpospbg|Selalu Sigap Memb...|Twitter|\n",
            "+--------------+--------------------+-------+\n",
            "only showing top 20 rows\n",
            "\n"
          ]
        }
      ]
    },
    {
      "cell_type": "code",
      "source": [
        "dfig_clean = dfig_clean.select(col(\"author\").alias(\"username\"), col(\"comment\").alias(\"content\"), \"source\")\n",
        "dft_a_clean = dft_a_clean.select(\"username\", col(\"tweet\").alias(\"content\"), \"source\")\n",
        "dft_h_clean = dft_h_clean.select(\"username\", col(\"tweet\").alias(\"content\"), \"source\")"
      ],
      "metadata": {
        "id": "sRtQ0VdQUjA5"
      },
      "execution_count": 67,
      "outputs": []
    },
    {
      "cell_type": "markdown",
      "source": [
        "**10. Union Data from All Source**"
      ],
      "metadata": {
        "id": "W4N_0RfWaJbZ"
      }
    },
    {
      "cell_type": "code",
      "source": [
        "from functools import reduce\n",
        "from pyspark.sql import DataFrame\n",
        "\n",
        "dfs = [dfig_clean, dft_a_clean, dft_h_clean]\n",
        "\n",
        "df_union = reduce(DataFrame.unionAll, dfs)"
      ],
      "metadata": {
        "id": "dQQc2ReSVC9_"
      },
      "execution_count": 68,
      "outputs": []
    },
    {
      "cell_type": "code",
      "source": [
        "df_union.show()"
      ],
      "metadata": {
        "colab": {
          "base_uri": "https://localhost:8080/"
        },
        "id": "gjGD8V6aVvEo",
        "outputId": "650a8b53-ee7a-412f-fa90-af5183ee9703"
      },
      "execution_count": 69,
      "outputs": [
        {
          "output_type": "stream",
          "name": "stdout",
          "text": [
            "+-------------------+--------------------+---------+\n",
            "|           username|             content|   source|\n",
            "+-------------------+--------------------+---------+\n",
            "|       mamah.asyraf|              Cek DM|Instagram|\n",
            "|    posindonesia.ig|Baik, Sahabat, mo...|Instagram|\n",
            "|    akhirini_husein|Kiriman saya tida...|Instagram|\n",
            "|    posindonesia.ig|Halo, Sahabat, bi...|Instagram|\n",
            "|             figha_|Pengambilan paket...|Instagram|\n",
            "|    posindonesia.ig|Halo, Sahabat. Mo...|Instagram|\n",
            "|             figha_|@posindonesia.ig ...|Instagram|\n",
            "|    posindonesia.ig|Sama-sama Sahabat...|Instagram|\n",
            "|       phytastoreso|Kak tolong cek dm...|Instagram|\n",
            "|    posindonesia.ig|Baik, telah kami ...|Instagram|\n",
            "|             figha_|Kalo mengambil pa...|Instagram|\n",
            "|    rizqimuhammad77|@ari_hr04 @adi047...|Instagram|\n",
            "|griyakulakannganjuk|Kirim paket belum...|Instagram|\n",
            "|             snttaa|Tolong cek STR040...|Instagram|\n",
            "|           widie489|https://ecoracing...|Instagram|\n",
            "|    posindonesia.ig|Boleh diinformasi...|Instagram|\n",
            "|    posindonesia.ig|Menurut investiga...|Instagram|\n",
            "|   keziacatherine.s|Min, bis Surat su...|Instagram|\n",
            "|    posindonesia.ig|Bisa surat masih ...|Instagram|\n",
            "|      audreygraciam|Hi min, tolong li...|Instagram|\n",
            "+-------------------+--------------------+---------+\n",
            "only showing top 20 rows\n",
            "\n"
          ]
        }
      ]
    },
    {
      "cell_type": "markdown",
      "source": [
        "**11. Filter Final Content without Special Character and Pos Indonesia**"
      ],
      "metadata": {
        "id": "fBNTzhPpaUqa"
      }
    },
    {
      "cell_type": "code",
      "source": [
        "for c, t in df_union.dtypes:\n",
        "        if t == \"string\":\n",
        "            df_union = df_union.withColumn(c, regexp_replace(c, \"[^\\w\\s]\", \"\"))"
      ],
      "metadata": {
        "id": "v4QSTLyJbywN"
      },
      "execution_count": 72,
      "outputs": []
    },
    {
      "cell_type": "code",
      "source": [
        "df_union.show()"
      ],
      "metadata": {
        "colab": {
          "base_uri": "https://localhost:8080/"
        },
        "id": "N7R_6SlKb33I",
        "outputId": "58af8649-f7dd-4a10-8ead-af7052bfcaa0"
      },
      "execution_count": 73,
      "outputs": [
        {
          "output_type": "stream",
          "name": "stdout",
          "text": [
            "+-------------------+--------------------+---------+\n",
            "|           username|             content|   source|\n",
            "+-------------------+--------------------+---------+\n",
            "|        mamahasyraf|              Cek DM|Instagram|\n",
            "|     posindonesiaig|Baik Sahabat moho...|Instagram|\n",
            "|    akhirini_husein|Kiriman saya tida...|Instagram|\n",
            "|     posindonesiaig|Halo Sahabat bisa...|Instagram|\n",
            "|             figha_|Pengambilan paket...|Instagram|\n",
            "|     posindonesiaig|Halo Sahabat Moho...|Instagram|\n",
            "|             figha_|posindonesiaig te...|Instagram|\n",
            "|     posindonesiaig|Samasama Sahabat ...|Instagram|\n",
            "|       phytastoreso|Kak tolong cek dm...|Instagram|\n",
            "|     posindonesiaig|Baik telah kami r...|Instagram|\n",
            "|             figha_|Kalo mengambil pa...|Instagram|\n",
            "|    rizqimuhammad77|ari_hr04 adi04731...|Instagram|\n",
            "|griyakulakannganjuk|Kirim paket belum...|Instagram|\n",
            "|             snttaa|Tolong cek STR040...|Instagram|\n",
            "|           widie489|httpsecoracingwin...|Instagram|\n",
            "|     posindonesiaig|Boleh diinformasi...|Instagram|\n",
            "|     posindonesiaig|Menurut investiga...|Instagram|\n",
            "|    keziacatherines|Min bis Surat sud...|Instagram|\n",
            "|     posindonesiaig|Bisa surat masih ...|Instagram|\n",
            "|      audreygraciam|Hi min tolong lia...|Instagram|\n",
            "+-------------------+--------------------+---------+\n",
            "only showing top 20 rows\n",
            "\n"
          ]
        }
      ]
    },
    {
      "cell_type": "code",
      "source": [
        "for c, t in df_union.dtypes:\n",
        "        if t == \"string\":\n",
        "            df_union = df_union.filter((df_union.username != 'posindonesiaig')&(df_union.username !='posindonesia'))"
      ],
      "metadata": {
        "id": "HHqBLcOxcASU"
      },
      "execution_count": 76,
      "outputs": []
    },
    {
      "cell_type": "code",
      "source": [
        "df_union.show()"
      ],
      "metadata": {
        "colab": {
          "base_uri": "https://localhost:8080/"
        },
        "id": "Mc90nllXcIr8",
        "outputId": "167d34e3-ab3b-41a8-bfc6-25833ec5de0e"
      },
      "execution_count": 77,
      "outputs": [
        {
          "output_type": "stream",
          "name": "stdout",
          "text": [
            "+-------------------+--------------------+---------+\n",
            "|           username|             content|   source|\n",
            "+-------------------+--------------------+---------+\n",
            "|        mamahasyraf|              Cek DM|Instagram|\n",
            "|    akhirini_husein|Kiriman saya tida...|Instagram|\n",
            "|             figha_|Pengambilan paket...|Instagram|\n",
            "|             figha_|posindonesiaig te...|Instagram|\n",
            "|       phytastoreso|Kak tolong cek dm...|Instagram|\n",
            "|             figha_|Kalo mengambil pa...|Instagram|\n",
            "|    rizqimuhammad77|ari_hr04 adi04731...|Instagram|\n",
            "|griyakulakannganjuk|Kirim paket belum...|Instagram|\n",
            "|             snttaa|Tolong cek STR040...|Instagram|\n",
            "|           widie489|httpsecoracingwin...|Instagram|\n",
            "|    keziacatherines|Min bis Surat sud...|Instagram|\n",
            "|      audreygraciam|Hi min tolong lia...|Instagram|\n",
            "|  ptmitajayamandiri|Pagi mau tanya un...|Instagram|\n",
            "|  ptmitajayamandiri|untuk kantor yang...|Instagram|\n",
            "|          lutviyyah|Pagi tolong di ch...|Instagram|\n",
            "|         wawannnn__|Kak kok paket say...|Instagram|\n",
            "|         wawannnn__|posindonesiaig ce...|Instagram|\n",
            "|          lutviyyah|posindonesiaig sa...|Instagram|\n",
            "|          lutviyyah|posindonesiaig to...|Instagram|\n",
            "|    evan_mardiyanto|Min mohon segera ...|Instagram|\n",
            "+-------------------+--------------------+---------+\n",
            "only showing top 20 rows\n",
            "\n"
          ]
        }
      ]
    },
    {
      "cell_type": "markdown",
      "source": [
        "**12. Save to CSV**"
      ],
      "metadata": {
        "id": "TuogU46UdUef"
      }
    },
    {
      "cell_type": "code",
      "source": [
        "df_union.coalesce(1).write.format(\"csv\").mode(\"overwrite\").option(\"header\", \"true\").save('final_data.csv')"
      ],
      "metadata": {
        "id": "NOGRTnybXBRx"
      },
      "execution_count": 78,
      "outputs": []
    }
  ]
}